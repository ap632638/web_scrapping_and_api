{
 "cells": [
  {
   "cell_type": "code",
   "execution_count": 1,
   "metadata": {},
   "outputs": [],
   "source": [
    "import requests\n",
    "import json"
   ]
  },
  {
   "cell_type": "markdown",
   "metadata": {},
   "source": [
    "# documentation of api available on\n",
    "\n",
    "https://sv443.net/jokeapi/v2#getting-started"
   ]
  },
  {
   "cell_type": "code",
   "execution_count": 5,
   "metadata": {},
   "outputs": [
    {
     "name": "stdout",
     "output_type": "stream",
     "text": [
      "\n",
      "Categories: 1. Any 2. Programming 3. Miscellaneous  4. Dark\n",
      "\n",
      "Choose from the given categories(Numbers only): 1\n",
      "\n",
      "\n",
      "\n",
      "\t Thank you student loans for getting me through college.\n",
      "\n",
      "\n",
      "\t\t I don't think I'll ever be able to repay you.\n",
      "\n",
      "\n",
      "Wanna try another one [y/n]: y\n",
      "\n",
      "Categories: 1. Any 2. Programming 3. Miscellaneous  4. Dark\n",
      "\n",
      "Choose from the given categories(Numbers only): 3\n",
      "\n",
      "\n",
      "\n",
      "\t What time did the man go to the dentist?\n",
      "\n",
      "\n",
      "\t\t Tooth hurt-y.\n",
      "\n",
      "\n",
      "Wanna try another one [y/n]: n\n",
      "\n",
      "\n",
      " See you soon.\n"
     ]
    }
   ],
   "source": [
    "base_url = 'https://sv443.net/jokeapi/v2/joke/'\n",
    "while(True):\n",
    "    print('\\nCategories: 1. Any 2. Programming 3. Miscellaneous  4. Dark')\n",
    "    ch = int(input('\\nChoose from the given categories(Numbers only): '))\n",
    "    cat=None\n",
    "    if(ch==1):\n",
    "        cat = 'Any'\n",
    "    elif(ch==2):\n",
    "        cat = 'Programming'\n",
    "    elif(ch==3):\n",
    "        cat = 'Miscellaneous'\n",
    "    elif(ch==4):\n",
    "        cat = 'Dark'\n",
    "    else:\n",
    "        print('Invalid Entry, Try again.')\n",
    "    if(cat is not None):\n",
    "        url = base_url + cat\n",
    "        r = requests.get(url)\n",
    "        if (r.ok):\n",
    "            joke = r.json()\n",
    "            if(joke['type']=='single'):\n",
    "                print(\"\\n\\n\\n\\t\",joke['joke'])\n",
    "            else:\n",
    "                print(\"\\n\\n\\n\\t\",joke['setup'])\n",
    "                print(\"\\n\\n\\t\\t\",joke['delivery'])\n",
    "            ch = input('\\n\\nWanna try another one [y/n]: ')\n",
    "            if(ch=='y' or ch=='Y'):\n",
    "                continue\n",
    "            else:\n",
    "                print(\"\\n\\n See you soon.\")\n",
    "                break\n",
    "        else:\n",
    "            print(r.text)\n",
    "        "
   ]
  },
  {
   "cell_type": "code",
   "execution_count": 3,
   "metadata": {},
   "outputs": [
    {
     "name": "stdout",
     "output_type": "stream",
     "text": [
      "{\n",
      "    \"category\": \"Programming\",\n",
      "    \"type\": \"single\",\n",
      "    \"joke\": \"A SQL statement walks into a bar and sees two tables.\\nIt approaches, and asks \\\"may I join you?\\\"\",\n",
      "    \"flags\": {\n",
      "        \"nsfw\": false,\n",
      "        \"religious\": false,\n",
      "        \"political\": false,\n",
      "        \"racist\": false,\n",
      "        \"sexist\": false\n",
      "    },\n",
      "    \"id\": 5,\n",
      "    \"error\": false\n",
      "}\n"
     ]
    }
   ],
   "source": [
    "url='https://sv443.net/jokeapi/v2/joke/Programming'\n",
    "r=requests.get(url)\n",
    "print(json.dumps(r.json(),indent=4))"
   ]
  },
  {
   "cell_type": "code",
   "execution_count": null,
   "metadata": {},
   "outputs": [],
   "source": []
  }
 ],
 "metadata": {
  "kernelspec": {
   "display_name": "Python 3",
   "language": "python",
   "name": "python3"
  },
  "language_info": {
   "codemirror_mode": {
    "name": "ipython",
    "version": 3
   },
   "file_extension": ".py",
   "mimetype": "text/x-python",
   "name": "python",
   "nbconvert_exporter": "python",
   "pygments_lexer": "ipython3",
   "version": "3.7.4"
  }
 },
 "nbformat": 4,
 "nbformat_minor": 2
}
